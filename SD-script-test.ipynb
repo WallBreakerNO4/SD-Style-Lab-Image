{
 "cells": [
  {
   "cell_type": "code",
   "execution_count": 1,
   "id": "40d53ffb",
   "metadata": {},
   "outputs": [],
   "source": [
    "# from libs import stable_diffusion_service\n",
    "from libs.stable_diffusion_service import GenerateImage, StableDiffusion\n",
    "from PIL import Image\n",
    "from IPython.display import display\n",
    "import asyncio\n",
    "import time\n",
    "import json\n",
    "\n",
    "# STABLE_DIFFUSION_BASE_URL = \"http://100.119.72.3:7860\" # 腾讯云IDE\n",
    "STABLE_DIFFUSION_BASE_URL = \"http://192.168.10.101:7860\" # 笔记本\n",
    "# STABLE_DIFFUSION_BASE_URL = \"http://localhost:6006\" # AutoDL\n",
    "\n",
    "SD = StableDiffusion(STABLE_DIFFUSION_BASE_URL,concurrency_limit=10)"
   ]
  },
  {
   "cell_type": "code",
   "execution_count": null,
   "id": "56d9887c",
   "metadata": {},
   "outputs": [],
   "source": [
    "character_list: list[str] = [\n",
    "    r\"amiya \\(arknights\\)\",\n",
    "    r\"texas \\(arknights\\)\",\n",
    "    r\"skadi \\(arknights\\)\",\n",
    "    r\"suzuran \\(arknights\\)\",\n",
    "    r\"kaltsit \\(arknights\\)\",\n",
    "    r\"exusiai \\(arknights\\)\",\n",
    "    r\"w \\(arknights\\)\",\n",
    "    r\"dusk \\(arknights\\)\",\n",
    "    r\"goldenglow \\(arknights\\)\",\n",
    "    r\"irene \\(arknights\\)\",\n",
    "    r\"sussurro \\(arknights\\)\",\n",
    "    r\"hoshiguma \\(arknights\\)\",\n",
    "    r\"blue poison \\(arknights\\)\",\n",
    "    r\"eyjafjalla \\(arknights\\)\",\n",
    "    r\"schwarz \\(arknights\\)\",\n",
    "    r\"siege \\(arknights\\)\",\n",
    "]\n",
    "prompt_list: list[dict] = []\n",
    "for character in character_list:\n",
    "    prompt_list.append(\n",
    "        {\n",
    "            \"prompt\": r\"1girl,\"\n",
    "            + character\n",
    "            + r\",arknights,safe,solo,chyoel,solar \\(happymonk\\),[kuzuvine],[[dino \\(dinoartforame\\)]],[[[ciloranko]]],ask \\(askzy\\),masterpiece,high score,great score,absurdres,year 2025,\",\n",
    "            \"negative_prompt\": r\"text,watermark,bad anatomy,bad proportions,extra limbs,extra digit,extra legs,extra legs and arms,disfigured,missing arms,too many fingers,fused fingers,missing fingers,unclear eyes,watermark,username,logo,artist logo,patreon logo,weibo logo,arknights logo,\",\n",
    "            \"width\": 832,\n",
    "            \"height\": 1216,\n",
    "            \"cfg_scale\": 5,\n",
    "            \"steps\": 28,\n",
    "            \"sampler_name\": \"Euler a\",\n",
    "            \"seed\": -1,\n",
    "            \"batch_size\": 1,\n",
    "        }\n",
    "    )"
   ]
  },
  {
   "cell_type": "code",
   "execution_count": null,
   "id": "0ee78a79",
   "metadata": {},
   "outputs": [],
   "source": [
    "image: list[GenerateImage] = SD.generate_images(prompt_list[0])"
   ]
  },
  {
   "cell_type": "code",
   "execution_count": null,
   "id": "3fd7ddbf",
   "metadata": {},
   "outputs": [],
   "source": [
    "print(type(image[0].parameters))\n",
    "print(image[0].parameters)\n",
    "print(type(image[0].info))\n",
    "print(image[0].info)\n",
    "info = json.loads(image[0].info)\n",
    "print(type(info))\n",
    "# display(image[0].image)"
   ]
  },
  {
   "cell_type": "code",
   "execution_count": null,
   "id": "22af667e",
   "metadata": {},
   "outputs": [],
   "source": [
    "print(info)"
   ]
  },
  {
   "cell_type": "code",
   "execution_count": 3,
   "id": "431a407b",
   "metadata": {},
   "outputs": [
    {
     "name": "stdout",
     "output_type": "stream",
     "text": [
      "Generated 16 images with sync function in 163.3361 seconds.\n"
     ]
    }
   ],
   "source": [
    "sync_start_time = time.time()\n",
    "images: list[Image.Image] = [\n",
    "    result.image for prompt in prompt_list for result in SD.generate_images(prompt)\n",
    "]\n",
    "sync_end_time = time.time()\n",
    "print(\n",
    "    f\"Generated {len(images)} images with sync function in {sync_end_time - sync_start_time:.4f} seconds.\"\n",
    ")"
   ]
  },
  {
   "cell_type": "code",
   "execution_count": 4,
   "id": "2f743338",
   "metadata": {},
   "outputs": [
    {
     "name": "stdout",
     "output_type": "stream",
     "text": [
      "Generated 1 images with async function in 21.6396 seconds.\n"
     ]
    }
   ],
   "source": [
    "async_start_time = time.time()\n",
    "tasks = [SD.aio_generate_images(params) for params in prompt_list]\n",
    "results = await asyncio.gather(*tasks)\n",
    "async_images: list[Image.Image] = [\n",
    "    img.image for images_list in results for img in images_list\n",
    "]\n",
    "async_end_time = time.time()\n",
    "print(\n",
    "    f\"Generated {len(async_images)} images with async function in {async_end_time - async_start_time:.4f} seconds.\"\n",
    ")"
   ]
  }
 ],
 "metadata": {
  "kernelspec": {
   "display_name": "SD-Style",
   "language": "python",
   "name": "python3"
  },
  "language_info": {
   "codemirror_mode": {
    "name": "ipython",
    "version": 3
   },
   "file_extension": ".py",
   "mimetype": "text/x-python",
   "name": "python",
   "nbconvert_exporter": "python",
   "pygments_lexer": "ipython3",
   "version": "3.13.5"
  }
 },
 "nbformat": 4,
 "nbformat_minor": 5
}
