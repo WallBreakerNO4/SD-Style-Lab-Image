{
 "cells": [
  {
   "cell_type": "code",
   "execution_count": 1,
   "id": "0201f653",
   "metadata": {},
   "outputs": [],
   "source": [
    "from libs import cloudflare_r2_service"
   ]
  },
  {
   "cell_type": "code",
   "execution_count": 2,
   "id": "102ee4f8",
   "metadata": {},
   "outputs": [
    {
     "name": "stdout",
     "output_type": "stream",
     "text": [
      "文件 async_img0.webp 已成功上传到 R2，对象键为 test/async_img0.webp\n",
      "https://sd-style-images.wall-breaker-no4.xyz/test/async_img0.webp\n"
     ]
    }
   ],
   "source": [
    "uploaded_urls = cloudflare_r2_service.upload_file_to_r2(file_path='tmp/async_img0.webp',path_prefix='test/')\n",
    "print(uploaded_urls)"
   ]
  }
 ],
 "metadata": {
  "kernelspec": {
   "display_name": "SD-Style",
   "language": "python",
   "name": "python3"
  },
  "language_info": {
   "codemirror_mode": {
    "name": "ipython",
    "version": 3
   },
   "file_extension": ".py",
   "mimetype": "text/x-python",
   "name": "python",
   "nbconvert_exporter": "python",
   "pygments_lexer": "ipython3",
   "version": "3.13.5"
  }
 },
 "nbformat": 4,
 "nbformat_minor": 5
}
