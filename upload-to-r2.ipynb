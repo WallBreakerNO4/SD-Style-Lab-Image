{
 "cells": [
  {
   "cell_type": "code",
   "execution_count": 1,
   "id": "a332090d",
   "metadata": {},
   "outputs": [],
   "source": [
    "from libs import cloudflare_r2_service\n",
    "from tqdm import tqdm\n",
    "from tqdm.asyncio import tqdm as async_tqdm\n",
    "import os\n",
    "import json\n",
    "import asyncio\n",
    "\n",
    "IMAGES_FOLDER = \"NoobAI-XL-Vpred-v1.0\"\n",
    "R2_PRIFIX = \"NoobAI-XL-Vpred-v1.0\"\n",
    "CACHE_CONTROL = \"public, max-age=31536000, immutable\""
   ]
  },
  {
   "cell_type": "code",
   "execution_count": 2,
   "id": "0c124111",
   "metadata": {},
   "outputs": [],
   "source": [
    "# 读取生成的图片的配置文件\n",
    "working_dir = os.path.join(\"tmp\", IMAGES_FOLDER)\n",
    "with open(os.path.join(working_dir, \"image_data.json\"), \"r\") as f:\n",
    "    image_data: list[dict] = json.load(f)"
   ]
  },
  {
   "cell_type": "code",
   "execution_count": 3,
   "id": "d90853c9",
   "metadata": {},
   "outputs": [],
   "source": [
    "# image_urls: list[str | None] = [] * len(image_data)\n",
    "# for data in tqdm(image_data):\n",
    "#     image_urls.append(\n",
    "#         cloudflare_r2_service.upload_file_to_r2(\n",
    "#             file_path=os.path.join(working_dir, f\"{data[\"index\"]}.webp\"),\n",
    "#             path_prefix=IMAGES_FOLDER,\n",
    "#         )\n",
    "#     )"
   ]
  },
  {
   "cell_type": "code",
   "execution_count": 4,
   "id": "0700b8b9",
   "metadata": {},
   "outputs": [
    {
     "name": "stderr",
     "output_type": "stream",
     "text": [
      "Uploading files: 100%|██████████| 2592/2592 [01:02<00:00, 41.26it/s]\n"
     ]
    }
   ],
   "source": [
    "image_urls: list[str | None] = [None] * len(image_data)\n",
    "semaphore = asyncio.Semaphore(128)\n",
    "upload_tasks = [\n",
    "    cloudflare_r2_service.aio_upload_file_to_r2(\n",
    "        semaphore=semaphore,\n",
    "        file_path=os.path.join(working_dir, \"images\", f\"{data['index']}.webp\"),\n",
    "        index=i,\n",
    "        path_prefix=R2_PRIFIX,\n",
    "        cache_control=CACHE_CONTROL,\n",
    "    )\n",
    "    for i, data in enumerate(image_data)\n",
    "]\n",
    "for coro in async_tqdm(\n",
    "    asyncio.as_completed(upload_tasks), total=len(upload_tasks), desc=\"Uploading files\"\n",
    "):\n",
    "    result, index = await coro\n",
    "    image_urls[index] = result"
   ]
  },
  {
   "cell_type": "code",
   "execution_count": 5,
   "id": "ed2fa3c1",
   "metadata": {},
   "outputs": [],
   "source": [
    "# 保存上传完成后的信息\n",
    "for i in range(len(image_data)):\n",
    "    image_data[i][\"image_url\"] = image_urls[i]\n",
    "with open(os.path.join(working_dir, \"image_data.json\"), \"w\") as f:\n",
    "    json.dump(image_data, f, indent=4, ensure_ascii=False)"
   ]
  }
 ],
 "metadata": {
  "kernelspec": {
   "display_name": "SD-Style",
   "language": "python",
   "name": "python3"
  },
  "language_info": {
   "codemirror_mode": {
    "name": "ipython",
    "version": 3
   },
   "file_extension": ".py",
   "mimetype": "text/x-python",
   "name": "python",
   "nbconvert_exporter": "python",
   "pygments_lexer": "ipython3",
   "version": "3.13.5"
  }
 },
 "nbformat": 4,
 "nbformat_minor": 5
}
