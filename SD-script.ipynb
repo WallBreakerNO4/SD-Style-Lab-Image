{
 "cells": [
  {
   "cell_type": "code",
   "execution_count": null,
   "id": "e1bb8712",
   "metadata": {},
   "outputs": [],
   "source": [
    "# from libs import stable_diffusion_service\n",
    "from libs.stable_diffusion_service import GenerateImage, StableDiffusion\n",
    "from PIL import Image\n",
    "from IPython.display import display\n",
    "from tqdm import tqdm\n",
    "from tqdm.asyncio import tqdm as async_tqdm\n",
    "import asyncio\n",
    "import time\n",
    "import os\n",
    "import csv\n",
    "import pandas as pd\n",
    "\n",
    "# STABLE_DIFFUSION_BASE_URL = \"http://100.119.72.3:7860\" # 腾讯云IDE\n",
    "STABLE_DIFFUSION_BASE_URL = \"http://192.168.10.101:7860\"  # 笔记本\n",
    "# STABLE_DIFFUSION_BASE_URL = \"http://localhost:6006\" # AutoDL\n",
    "\n",
    "SD = StableDiffusion(STABLE_DIFFUSION_BASE_URL, concurrency_limit=10)"
   ]
  },
  {
   "cell_type": "code",
   "execution_count": 12,
   "id": "37b55bc5",
   "metadata": {},
   "outputs": [
    {
     "name": "stdout",
     "output_type": "stream",
     "text": [
      "Prompt list length: 868\n",
      "Prompt 0: 1girl,amiya \\(arknights\\),arknights,safe,(mafuyu \\(chibi21\\)),((rurudo,gusha s,hiro \\(dismaless\\),wlop,yoneyama mai,mikami mika)),[[murata range]],solo,cowboy shot,smile,looking at viewer,masterpiece,high score,great score,absurdres,year 2025,\n",
      "Prompt 1: 2girls,texas \\(arknights\\),lappland \\(arknights\\),arknights,safe,(mafuyu \\(chibi21\\)),((rurudo,gusha s,hiro \\(dismaless\\),wlop,yoneyama mai,mikami mika)),[[murata range]],shopping mall,indoor,cowboy shot,holding hands,front view,masterpiece,high score,great score,absurdres,year 2025,\n",
      "Prompt 2: 1girl,amiya \\(arknights\\),arknights,safe,naga u,[tyakomes],henreader,baku-psolo,cowboy shot,smile,looking at viewer,masterpiece,high score,great score,absurdres,year 2025,\n",
      "Prompt 3: 2girls,texas \\(arknights\\),lappland \\(arknights\\),arknights,safe,naga u,[tyakomes],henreader,baku-pshopping mall,indoor,cowboy shot,holding hands,front view,masterpiece,high score,great score,absurdres,year 2025,\n",
      "Prompt 4: 1girl,amiya \\(arknights\\),arknights,safe,(fagun yibei),berryverrine,saaal653,mihifu,reddizen,tabi \\(tabisumika\\),naga u,no lineart,solo,cowboy shot,smile,looking at viewer,masterpiece,high score,great score,absurdres,year 2025,\n",
      "Prompt 5: 2girls,texas \\(arknights\\),lappland \\(arknights\\),arknights,safe,(fagun yibei),berryverrine,saaal653,mihifu,reddizen,tabi \\(tabisumika\\),naga u,no lineart,shopping mall,indoor,cowboy shot,holding hands,front view,masterpiece,high score,great score,absurdres,year 2025,\n"
     ]
    }
   ],
   "source": [
    "# 读取 csv 文件并构建 prompt 列表\n",
    "sd_style_list: pd.DataFrame = pd.read_csv(\"csv/300_NAI_Styles_Table.csv\")\n",
    "common_prompts: pd.DataFrame = pd.read_csv(\"csv/common_prompts.csv\")\n",
    "prompt_list: list[str] = []\n",
    "\n",
    "for _, sd_style in sd_style_list.iterrows():\n",
    "    for _, common_prompt in common_prompts.iterrows():\n",
    "        prompt = (\n",
    "            f\"{common_prompt['Gender tags']}\"\n",
    "            f\"{common_prompt['Character(s) tags']}\"\n",
    "            f\"{common_prompt['Series tags']}\"\n",
    "            f\"{common_prompt['Rating tags']}\"\n",
    "            f\"{sd_style['Artists']}\"\n",
    "            f\"{common_prompt['General tags']}\"\n",
    "            f\"{common_prompt['Qulity tags']}\"\n",
    "        )\n",
    "        prompt_list.append(prompt)\n",
    "\n",
    "print(f\"Prompt list length: {len(prompt_list)}\")\n",
    "for idx, prompt in enumerate(prompt_list[:6]):\n",
    "    print(f\"Prompt {idx}: {prompt}\")"
   ]
  }
 ],
 "metadata": {
  "kernelspec": {
   "display_name": "SD-Style",
   "language": "python",
   "name": "python3"
  },
  "language_info": {
   "codemirror_mode": {
    "name": "ipython",
    "version": 3
   },
   "file_extension": ".py",
   "mimetype": "text/x-python",
   "name": "python",
   "nbconvert_exporter": "python",
   "pygments_lexer": "ipython3",
   "version": "3.13.5"
  }
 },
 "nbformat": 4,
 "nbformat_minor": 5
}
