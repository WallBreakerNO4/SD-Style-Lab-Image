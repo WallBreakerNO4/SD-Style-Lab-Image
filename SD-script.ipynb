{
 "cells": [
  {
   "cell_type": "code",
   "execution_count": null,
   "id": "e1bb8712",
   "metadata": {},
   "outputs": [],
   "source": [
    "from libs import stable_diffusion_service\n",
    "from libs.stable_diffusion_service import GenerateImage, StableDiffusion\n",
    "from PIL import Image\n",
    "from IPython.display import display\n",
    "from tqdm import tqdm\n",
    "from tqdm.asyncio import tqdm as async_tqdm\n",
    "import pandas as pd\n",
    "import asyncio\n",
    "import time\n",
    "import os\n",
    "import json\n",
    "\n",
    "# STABLE_DIFFUSION_BASE_URL = \"http://100.119.72.3:7860\" # 腾讯云IDE\n",
    "# STABLE_DIFFUSION_BASE_URL = \"http://192.168.10.101:7860\"  # 笔记本\n",
    "STABLE_DIFFUSION_BASE_URL = \"http://localhost:6006\"  # AutoDL\n",
    "\n",
    "SD = StableDiffusion(STABLE_DIFFUSION_BASE_URL, concurrency_limit=10)\n",
    "TEST = False"
   ]
  },
  {
   "cell_type": "code",
   "execution_count": 2,
   "id": "37b55bc5",
   "metadata": {},
   "outputs": [],
   "source": [
    "# 读取 csv 文件并构建 prompt 列表\n",
    "sd_style_list: pd.DataFrame = (\n",
    "    pd.read_csv(\"csv/300_NAI_Styles_Table.csv\")\n",
    "    if not TEST\n",
    "    else pd.read_csv(\"csv/300_NAI_Styles_Table-test.csv\")\n",
    ")\n",
    "common_prompts: pd.DataFrame = pd.read_csv(\"csv/common_prompts.csv\")\n",
    "prompt_list: list[str] = []\n",
    "\n",
    "for _, sd_style in sd_style_list.iterrows():\n",
    "    for _, common_prompt in common_prompts.iterrows():\n",
    "        prompt = (\n",
    "            f\"{common_prompt['Gender tags']}\"\n",
    "            f\"{common_prompt['Character(s) tags']}\"\n",
    "            f\"{common_prompt['Series tags']}\"\n",
    "            f\"{common_prompt['Rating tags']}\"\n",
    "            f\"{sd_style['Artists']}\"\n",
    "            f\"{common_prompt['General tags']}\"\n",
    "            f\"{common_prompt['Qulity tags']}\"\n",
    "        )\n",
    "        prompt_list.append(prompt)\n",
    "\n",
    "# 查看生成的 prompt 列表的前几个\n",
    "# print(f\"Prompt list length: {len(prompt_list)}\")\n",
    "# for idx, prompt in enumerate(prompt_list[:6]):\n",
    "#     print(f\"Prompt {idx}: {prompt}\")"
   ]
  },
  {
   "cell_type": "code",
   "execution_count": 3,
   "id": "0c3fc04b",
   "metadata": {},
   "outputs": [],
   "source": [
    "# 构建生成所用参数\n",
    "SD_generate_Parameter_list: list[dict] = []\n",
    "for prompt in prompt_list:\n",
    "    SD_generate_Parameter_list.append(\n",
    "        {\n",
    "            \"prompt\": prompt,\n",
    "            \"negative_prompt\": r\"text,watermark,bad anatomy,bad proportions,extra limbs,extra digit,extra legs,extra legs and arms,disfigured,missing arms,too many fingers,fused fingers,missing fingers,unclear eyes,watermark,username,logo,artist logo,patreon logo,weibo logo,arknights logo,\",\n",
    "            \"width\": 832,\n",
    "            \"height\": 1216,\n",
    "            \"cfg_scale\": 5,\n",
    "            \"steps\": 28,\n",
    "            \"sampler_name\": \"Euler a\",\n",
    "            \"seed\": -1,\n",
    "            \"batch_size\": 1,\n",
    "        }\n",
    "    )"
   ]
  },
  {
   "cell_type": "code",
   "execution_count": 4,
   "id": "fceb5980",
   "metadata": {},
   "outputs": [
    {
     "name": "stderr",
     "output_type": "stream",
     "text": [
      "Generating: 100%|██████████| 9/9 [00:29<00:00,  3.30s/it]\n"
     ]
    }
   ],
   "source": [
    "# 实际生成图片\n",
    "tasks = [\n",
    "    SD.aio_generate_images(params, i)\n",
    "    for i, params in enumerate(SD_generate_Parameter_list)\n",
    "]\n",
    "\n",
    "\n",
    "images: list[Image.Image] = (\n",
    "    [Image.Image] * len(tasks) * SD_generate_Parameter_list[0][\"batch_size\"]\n",
    ")\n",
    "image_info: list[dict] = (\n",
    "    [{\"parameters\", \"info\"}] * len(tasks) * SD_generate_Parameter_list[0][\"batch_size\"]\n",
    ")\n",
    "\n",
    "for coro in async_tqdm(\n",
    "    asyncio.as_completed(tasks), total=len(tasks), desc=\"Generating\"\n",
    "):\n",
    "    result, index = await coro\n",
    "    for i, img in enumerate(result):\n",
    "        images[index * SD_generate_Parameter_list[0][\"batch_size\"] + i] = img.image\n",
    "        image_info[index * SD_generate_Parameter_list[0][\"batch_size\"] + i] = {\n",
    "            \"parameters\": img.parameters,\n",
    "            \"info\": img.info,\n",
    "        }"
   ]
  },
  {
   "cell_type": "code",
   "execution_count": 5,
   "id": "27366ad6",
   "metadata": {},
   "outputs": [],
   "source": [
    "# 保存图片、数据和生成的表格\n",
    "# 初始化变量\n",
    "sd_style_table: pd.DataFrame = pd.DataFrame(\n",
    "    index=sd_style_list[\"Artists\"], columns=common_prompts[\"General tags\"]\n",
    ")\n",
    "image_data: list[dict] = []\n",
    "current_time: str = time.strftime(\"%Y-%m-%d_%H-%M-%S\", time.localtime())\n",
    "tmp_dir = os.path.join(\"tmp\", current_time)\n",
    "if not os.path.exists(tmp_dir):\n",
    "    os.makedirs(tmp_dir)\n",
    "image_index: int = 0\n",
    "\n",
    "\n",
    "\n",
    "for _, sd_style in sd_style_list.iterrows():\n",
    "    for _, common_prompt in common_prompts.iterrows():\n",
    "        # 保存图片\n",
    "        img_storage_path: str = os.path.join(tmp_dir, f\"{image_index}.webp\")\n",
    "        images[image_index].save(img_storage_path, format=\"webp\")\n",
    "\n",
    "        # 更新 DataFrame\n",
    "        sd_style_table.at[sd_style[\"Artists\"], common_prompt[\"General tags\"]] = image_index\n",
    "        # 更新 image_data\n",
    "        image_data.append({\n",
    "            \"index\": image_index,\n",
    "            \"img_storage_path\": img_storage_path,\n",
    "            \"parameters\": image_info[image_index][\"parameters\"],\n",
    "            \"info\": image_info[image_index][\"info\"],\n",
    "        })\n",
    "\n",
    "        image_index += 1\n",
    "\n",
    "# 保存 DataFrame 到 Parquet 文件\n",
    "sd_style_table.to_csv(\n",
    "    os.path.join(tmp_dir, \"sd_style_table.csv\"), index=True\n",
    ")\n",
    "# 保存图片数据到 JSON 文件\n",
    "with open(os.path.join(tmp_dir, \"image_data.json\"), \"w\", encoding=\"utf-8\") as f:\n",
    "    json.dump(image_data, f, ensure_ascii=False, indent=4)"
   ]
  },
  {
   "cell_type": "code",
   "execution_count": 6,
   "id": "cb6fa7c5",
   "metadata": {},
   "outputs": [
    {
     "data": {
      "text/plain": [
       "0"
      ]
     },
     "execution_count": 6,
     "metadata": {},
     "output_type": "execute_result"
    }
   ],
   "source": [
    "sd_style_table.at[sd_style_list[\"Artists\"][0], common_prompts[\"General tags\"][0]]"
   ]
  }
 ],
 "metadata": {
  "kernelspec": {
   "display_name": "SD-Style",
   "language": "python",
   "name": "python3"
  },
  "language_info": {
   "codemirror_mode": {
    "name": "ipython",
    "version": 3
   },
   "file_extension": ".py",
   "mimetype": "text/x-python",
   "name": "python",
   "nbconvert_exporter": "python",
   "pygments_lexer": "ipython3",
   "version": "3.13.5"
  }
 },
 "nbformat": 4,
 "nbformat_minor": 5
}
