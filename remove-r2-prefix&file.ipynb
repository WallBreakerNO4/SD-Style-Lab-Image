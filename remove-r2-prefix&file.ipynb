{
 "cells": [
  {
   "cell_type": "code",
   "execution_count": null,
   "id": "37c00cc1",
   "metadata": {},
   "outputs": [],
   "source": [
    "from libs import cloudflare_r2_service\n",
    "import asyncio"
   ]
  },
  {
   "cell_type": "code",
   "execution_count": null,
   "id": "497b1e06",
   "metadata": {},
   "outputs": [],
   "source": [
    "cloudflare_r2_service.remove_dir_in_r2(\n",
    "    path_prefix=\"animagine-xl-4.0-opt\",)"
   ]
  },
  {
   "cell_type": "code",
   "execution_count": 3,
   "id": "94497ed8",
   "metadata": {},
   "outputs": [
    {
     "name": "stdout",
     "output_type": "stream",
     "text": [
      "找到 2592 个对象需要更新 Cache-Control，路径前缀：NoobAI-XL-Vpred-v1.0\n"
     ]
    },
    {
     "name": "stderr",
     "output_type": "stream",
     "text": [
      "更新 Cache-Control: 100%|██████████| 2592/2592 [18:57<00:00,  2.28it/s]"
     ]
    },
    {
     "name": "stdout",
     "output_type": "stream",
     "text": [
      "已成功更新路径前缀 NoobAI-XL-Vpred-v1.0 的 Cache-Control 为 'public, max-age=31536000, immutable'\n"
     ]
    },
    {
     "name": "stderr",
     "output_type": "stream",
     "text": [
      "\n"
     ]
    }
   ],
   "source": [
    "cloudflare_r2_service.change_cache_control_dir_in_r2(\n",
    "    path_prefix=\"NoobAI-XL-Vpred-v1.0\",\n",
    "    cache_control=\"public, max-age=31536000, immutable\",\n",
    ")"
   ]
  }
 ],
 "metadata": {
  "kernelspec": {
   "display_name": "SD-Style",
   "language": "python",
   "name": "python3"
  },
  "language_info": {
   "codemirror_mode": {
    "name": "ipython",
    "version": 3
   },
   "file_extension": ".py",
   "mimetype": "text/x-python",
   "name": "python",
   "nbconvert_exporter": "python",
   "pygments_lexer": "ipython3",
   "version": "3.13.5"
  }
 },
 "nbformat": 4,
 "nbformat_minor": 5
}
